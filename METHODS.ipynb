{
 "cells": [
  {
   "cell_type": "markdown",
   "metadata": {},
   "source": [
    "# Custom convnets for the DREAM ENCODE challenge\n",
    "\n",
    "This document will outline the math for the non-standard components. \n",
    "\n",
    "## Ordinal likelihood\n",
    "\n",
    "The nnet has a single univariate output $g \\in R$ since I do not use a multitask output. The ordinal likelihood is defined for the Unbound, Ambigous and Bound classes as\n",
    "\\begin{align}\n",
    "P(y=U|g)=\\sigma(-g)\\\\\n",
    "P(y=A|g)=\\sigma(1-g)-\\sigma(-g)\\\\\n",
    "P(y=B|g)=1-\\sigma(1-g)\n",
    "\\end{align}\n",
    "where $\\sigma$ is the logistic function. \n"
   ]
  }
 ],
 "metadata": {
  "kernelspec": {
   "display_name": "Python 2",
   "language": "python",
   "name": "python2"
  },
  "language_info": {
   "codemirror_mode": {
    "name": "ipython",
    "version": 2
   },
   "file_extension": ".py",
   "mimetype": "text/x-python",
   "name": "python",
   "nbconvert_exporter": "python",
   "pygments_lexer": "ipython2",
   "version": "2.7.6"
  }
 },
 "nbformat": 4,
 "nbformat_minor": 1
}
